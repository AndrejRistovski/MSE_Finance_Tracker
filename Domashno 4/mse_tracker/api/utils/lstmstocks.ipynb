{
 "cells": [
  {
   "cell_type": "code",
   "id": "initial_id",
   "metadata": {
    "collapsed": true,
    "ExecuteTime": {
     "end_time": "2024-12-24T16:57:00.727554Z",
     "start_time": "2024-12-24T16:57:00.720361Z"
    }
   },
   "source": [
    "import numpy as np\n",
    "import pandas as pd\n",
    "from sklearn.preprocessing import MinMaxScaler\n"
   ],
   "outputs": [],
   "execution_count": 37
  },
  {
   "metadata": {
    "ExecuteTime": {
     "end_time": "2024-12-24T16:57:01.166795Z",
     "start_time": "2024-12-24T16:57:01.163392Z"
    }
   },
   "cell_type": "code",
   "source": [
    "from tensorflow.keras.models import Sequential\n",
    "from tensorflow.keras.layers import Dense, Input, LSTM"
   ],
   "id": "ce2bcb55184cf66a",
   "outputs": [],
   "execution_count": 38
  },
  {
   "metadata": {
    "ExecuteTime": {
     "end_time": "2024-12-24T16:57:01.847490Z",
     "start_time": "2024-12-24T16:57:01.843827Z"
    }
   },
   "cell_type": "code",
   "source": [
    "def convert_date(date_str):\n",
    "    return pd.to_datetime(date_str, format='%d.%m.%Y').timestamp()\n",
    "\n",
    "\n",
    "def convert_number(number_str):\n",
    "    if number_str == '':\n",
    "        return None\n",
    "    return float(number_str.replace('.', '').replace(',', '.'))"
   ],
   "id": "e505b6471e92b186",
   "outputs": [],
   "execution_count": 39
  },
  {
   "metadata": {
    "ExecuteTime": {
     "end_time": "2024-12-24T16:57:15.017179Z",
     "start_time": "2024-12-24T16:57:03.036259Z"
    }
   },
   "cell_type": "code",
   "source": [
    "import sqlite3\n",
    "\n",
    "conn = sqlite3.connect(\"./final_stock_data.db\")\n",
    "curs = conn.cursor()\n",
    "\n",
    "curs.execute(\"SELECT * FROM stock_prices\")\n",
    "data = curs.fetchall()\n",
    "\n",
    "conn.close()\n",
    "dataframe = pd.DataFrame(data, columns=['issuer', 'date', 'cena_posledna', 'mak', 'min', 'average', 'percentChange',\n",
    "                                        'kolichina', 'prometbest', 'vkupenPromet'])\n",
    "\n",
    "dataframe['date'] = dataframe['date'].apply(convert_date).astype(int)\n",
    "dataframe['cena_posledna'] = dataframe['cena_posledna'].apply(convert_number)\n",
    "\n",
    "df2 = pd.DataFrame()\n",
    "df2['time'] = dataframe['date']\n",
    "df2['close'] = dataframe['cena_posledna']\n",
    "df2['issuer'] = dataframe['issuer']\n",
    "\n",
    "# df2 = df2.dropna(subset=['close', 'time'])\n",
    "df2 = df2.sort_values(by=['time'])\n",
    "\n",
    "\n",
    "\n",
    "# df2 = df2.to_json(orient=\"records\")"
   ],
   "id": "cd7fb5503d14fcbd",
   "outputs": [],
   "execution_count": 40
  },
  {
   "metadata": {
    "ExecuteTime": {
     "end_time": "2024-12-24T16:57:16.661946Z",
     "start_time": "2024-12-24T16:57:16.654570Z"
    }
   },
   "cell_type": "code",
   "source": "df2",
   "id": "710eac1cfed0bcfa",
   "outputs": [
    {
     "data": {
      "text/plain": [
       "              time    close issuer\n",
       "124629  1357084800    570.0   MAKP\n",
       "194993  1357084800   8500.0   PPIV\n",
       "2916    1357084800    307.0   ATPP\n",
       "238359  1357084800   3000.0   SLAV\n",
       "330093  1357084800    159.0   ZILU\n",
       "...            ...      ...    ...\n",
       "344436  1733184000  17550.0    PKB\n",
       "344438  1733184000  38000.0   PPIV\n",
       "344300  1733184000    310.0   GECT\n",
       "344306  1733184000    310.0   GRDN\n",
       "344246  1733184000   3030.0   AUMK\n",
       "\n",
       "[344570 rows x 3 columns]"
      ],
      "text/html": [
       "<div>\n",
       "<style scoped>\n",
       "    .dataframe tbody tr th:only-of-type {\n",
       "        vertical-align: middle;\n",
       "    }\n",
       "\n",
       "    .dataframe tbody tr th {\n",
       "        vertical-align: top;\n",
       "    }\n",
       "\n",
       "    .dataframe thead th {\n",
       "        text-align: right;\n",
       "    }\n",
       "</style>\n",
       "<table border=\"1\" class=\"dataframe\">\n",
       "  <thead>\n",
       "    <tr style=\"text-align: right;\">\n",
       "      <th></th>\n",
       "      <th>time</th>\n",
       "      <th>close</th>\n",
       "      <th>issuer</th>\n",
       "    </tr>\n",
       "  </thead>\n",
       "  <tbody>\n",
       "    <tr>\n",
       "      <th>124629</th>\n",
       "      <td>1357084800</td>\n",
       "      <td>570.0</td>\n",
       "      <td>MAKP</td>\n",
       "    </tr>\n",
       "    <tr>\n",
       "      <th>194993</th>\n",
       "      <td>1357084800</td>\n",
       "      <td>8500.0</td>\n",
       "      <td>PPIV</td>\n",
       "    </tr>\n",
       "    <tr>\n",
       "      <th>2916</th>\n",
       "      <td>1357084800</td>\n",
       "      <td>307.0</td>\n",
       "      <td>ATPP</td>\n",
       "    </tr>\n",
       "    <tr>\n",
       "      <th>238359</th>\n",
       "      <td>1357084800</td>\n",
       "      <td>3000.0</td>\n",
       "      <td>SLAV</td>\n",
       "    </tr>\n",
       "    <tr>\n",
       "      <th>330093</th>\n",
       "      <td>1357084800</td>\n",
       "      <td>159.0</td>\n",
       "      <td>ZILU</td>\n",
       "    </tr>\n",
       "    <tr>\n",
       "      <th>...</th>\n",
       "      <td>...</td>\n",
       "      <td>...</td>\n",
       "      <td>...</td>\n",
       "    </tr>\n",
       "    <tr>\n",
       "      <th>344436</th>\n",
       "      <td>1733184000</td>\n",
       "      <td>17550.0</td>\n",
       "      <td>PKB</td>\n",
       "    </tr>\n",
       "    <tr>\n",
       "      <th>344438</th>\n",
       "      <td>1733184000</td>\n",
       "      <td>38000.0</td>\n",
       "      <td>PPIV</td>\n",
       "    </tr>\n",
       "    <tr>\n",
       "      <th>344300</th>\n",
       "      <td>1733184000</td>\n",
       "      <td>310.0</td>\n",
       "      <td>GECT</td>\n",
       "    </tr>\n",
       "    <tr>\n",
       "      <th>344306</th>\n",
       "      <td>1733184000</td>\n",
       "      <td>310.0</td>\n",
       "      <td>GRDN</td>\n",
       "    </tr>\n",
       "    <tr>\n",
       "      <th>344246</th>\n",
       "      <td>1733184000</td>\n",
       "      <td>3030.0</td>\n",
       "      <td>AUMK</td>\n",
       "    </tr>\n",
       "  </tbody>\n",
       "</table>\n",
       "<p>344570 rows × 3 columns</p>\n",
       "</div>"
      ]
     },
     "execution_count": 41,
     "metadata": {},
     "output_type": "execute_result"
    }
   ],
   "execution_count": 41
  },
  {
   "metadata": {
    "ExecuteTime": {
     "end_time": "2024-12-24T16:57:18.829526Z",
     "start_time": "2024-12-24T16:57:18.826059Z"
    }
   },
   "cell_type": "code",
   "source": "from sklearn.preprocessing import LabelEncoder",
   "id": "816802a0ab8da905",
   "outputs": [],
   "execution_count": 42
  },
  {
   "metadata": {
    "ExecuteTime": {
     "end_time": "2024-12-24T16:57:19.819890Z",
     "start_time": "2024-12-24T16:57:19.659277Z"
    }
   },
   "cell_type": "code",
   "source": [
    "encoder = LabelEncoder()\n",
    "\n",
    "df2['issuer'] = encoder.fit_transform(df2['issuer'])"
   ],
   "id": "9d90e81723d97e9a",
   "outputs": [],
   "execution_count": 43
  },
  {
   "metadata": {
    "ExecuteTime": {
     "end_time": "2024-12-24T16:57:21.656888Z",
     "start_time": "2024-12-24T16:57:21.648114Z"
    }
   },
   "cell_type": "code",
   "source": "df2",
   "id": "56aaad98d4b64762",
   "outputs": [
    {
     "data": {
      "text/plain": [
       "              time    close  issuer\n",
       "124629  1357084800    570.0      73\n",
       "194993  1357084800   8500.0     101\n",
       "2916    1357084800    307.0       6\n",
       "238359  1357084800   3000.0     122\n",
       "330093  1357084800    159.0     160\n",
       "...            ...      ...     ...\n",
       "344436  1733184000  17550.0      99\n",
       "344438  1733184000  38000.0     101\n",
       "344300  1733184000    310.0      36\n",
       "344306  1733184000    310.0      38\n",
       "344246  1733184000   3030.0       7\n",
       "\n",
       "[344570 rows x 3 columns]"
      ],
      "text/html": [
       "<div>\n",
       "<style scoped>\n",
       "    .dataframe tbody tr th:only-of-type {\n",
       "        vertical-align: middle;\n",
       "    }\n",
       "\n",
       "    .dataframe tbody tr th {\n",
       "        vertical-align: top;\n",
       "    }\n",
       "\n",
       "    .dataframe thead th {\n",
       "        text-align: right;\n",
       "    }\n",
       "</style>\n",
       "<table border=\"1\" class=\"dataframe\">\n",
       "  <thead>\n",
       "    <tr style=\"text-align: right;\">\n",
       "      <th></th>\n",
       "      <th>time</th>\n",
       "      <th>close</th>\n",
       "      <th>issuer</th>\n",
       "    </tr>\n",
       "  </thead>\n",
       "  <tbody>\n",
       "    <tr>\n",
       "      <th>124629</th>\n",
       "      <td>1357084800</td>\n",
       "      <td>570.0</td>\n",
       "      <td>73</td>\n",
       "    </tr>\n",
       "    <tr>\n",
       "      <th>194993</th>\n",
       "      <td>1357084800</td>\n",
       "      <td>8500.0</td>\n",
       "      <td>101</td>\n",
       "    </tr>\n",
       "    <tr>\n",
       "      <th>2916</th>\n",
       "      <td>1357084800</td>\n",
       "      <td>307.0</td>\n",
       "      <td>6</td>\n",
       "    </tr>\n",
       "    <tr>\n",
       "      <th>238359</th>\n",
       "      <td>1357084800</td>\n",
       "      <td>3000.0</td>\n",
       "      <td>122</td>\n",
       "    </tr>\n",
       "    <tr>\n",
       "      <th>330093</th>\n",
       "      <td>1357084800</td>\n",
       "      <td>159.0</td>\n",
       "      <td>160</td>\n",
       "    </tr>\n",
       "    <tr>\n",
       "      <th>...</th>\n",
       "      <td>...</td>\n",
       "      <td>...</td>\n",
       "      <td>...</td>\n",
       "    </tr>\n",
       "    <tr>\n",
       "      <th>344436</th>\n",
       "      <td>1733184000</td>\n",
       "      <td>17550.0</td>\n",
       "      <td>99</td>\n",
       "    </tr>\n",
       "    <tr>\n",
       "      <th>344438</th>\n",
       "      <td>1733184000</td>\n",
       "      <td>38000.0</td>\n",
       "      <td>101</td>\n",
       "    </tr>\n",
       "    <tr>\n",
       "      <th>344300</th>\n",
       "      <td>1733184000</td>\n",
       "      <td>310.0</td>\n",
       "      <td>36</td>\n",
       "    </tr>\n",
       "    <tr>\n",
       "      <th>344306</th>\n",
       "      <td>1733184000</td>\n",
       "      <td>310.0</td>\n",
       "      <td>38</td>\n",
       "    </tr>\n",
       "    <tr>\n",
       "      <th>344246</th>\n",
       "      <td>1733184000</td>\n",
       "      <td>3030.0</td>\n",
       "      <td>7</td>\n",
       "    </tr>\n",
       "  </tbody>\n",
       "</table>\n",
       "<p>344570 rows × 3 columns</p>\n",
       "</div>"
      ]
     },
     "execution_count": 44,
     "metadata": {},
     "output_type": "execute_result"
    }
   ],
   "execution_count": 44
  },
  {
   "metadata": {
    "ExecuteTime": {
     "end_time": "2024-12-24T16:57:23.907065Z",
     "start_time": "2024-12-24T16:57:23.890377Z"
    }
   },
   "cell_type": "code",
   "source": "df2.dropna(subset=['close'], inplace=True)",
   "id": "4d59098afdc903b3",
   "outputs": [],
   "execution_count": 45
  },
  {
   "metadata": {
    "ExecuteTime": {
     "end_time": "2024-12-24T16:57:25.987923Z",
     "start_time": "2024-12-24T16:57:25.983240Z"
    }
   },
   "cell_type": "code",
   "source": "len(df2)",
   "id": "940424218869133c",
   "outputs": [
    {
     "data": {
      "text/plain": [
       "335707"
      ]
     },
     "execution_count": 46,
     "metadata": {},
     "output_type": "execute_result"
    }
   ],
   "execution_count": 46
  },
  {
   "metadata": {
    "ExecuteTime": {
     "end_time": "2024-12-24T16:57:37.657539Z",
     "start_time": "2024-12-24T16:57:37.642900Z"
    }
   },
   "cell_type": "code",
   "source": "df2[\"time\"] = pd.to_datetime(df2[\"time\"], unit=\"s\")",
   "id": "311e61e368818926",
   "outputs": [],
   "execution_count": 47
  },
  {
   "metadata": {
    "ExecuteTime": {
     "end_time": "2024-12-24T16:57:40.633820Z",
     "start_time": "2024-12-24T16:57:40.623389Z"
    }
   },
   "cell_type": "code",
   "source": "df2",
   "id": "44b31778f1a85397",
   "outputs": [
    {
     "data": {
      "text/plain": [
       "             time    close  issuer\n",
       "124629 2013-01-02    570.0      73\n",
       "194993 2013-01-02   8500.0     101\n",
       "2916   2013-01-02    307.0       6\n",
       "238359 2013-01-02   3000.0     122\n",
       "330093 2013-01-02    159.0     160\n",
       "...           ...      ...     ...\n",
       "344436 2024-12-03  17550.0      99\n",
       "344438 2024-12-03  38000.0     101\n",
       "344300 2024-12-03    310.0      36\n",
       "344306 2024-12-03    310.0      38\n",
       "344246 2024-12-03   3030.0       7\n",
       "\n",
       "[335707 rows x 3 columns]"
      ],
      "text/html": [
       "<div>\n",
       "<style scoped>\n",
       "    .dataframe tbody tr th:only-of-type {\n",
       "        vertical-align: middle;\n",
       "    }\n",
       "\n",
       "    .dataframe tbody tr th {\n",
       "        vertical-align: top;\n",
       "    }\n",
       "\n",
       "    .dataframe thead th {\n",
       "        text-align: right;\n",
       "    }\n",
       "</style>\n",
       "<table border=\"1\" class=\"dataframe\">\n",
       "  <thead>\n",
       "    <tr style=\"text-align: right;\">\n",
       "      <th></th>\n",
       "      <th>time</th>\n",
       "      <th>close</th>\n",
       "      <th>issuer</th>\n",
       "    </tr>\n",
       "  </thead>\n",
       "  <tbody>\n",
       "    <tr>\n",
       "      <th>124629</th>\n",
       "      <td>2013-01-02</td>\n",
       "      <td>570.0</td>\n",
       "      <td>73</td>\n",
       "    </tr>\n",
       "    <tr>\n",
       "      <th>194993</th>\n",
       "      <td>2013-01-02</td>\n",
       "      <td>8500.0</td>\n",
       "      <td>101</td>\n",
       "    </tr>\n",
       "    <tr>\n",
       "      <th>2916</th>\n",
       "      <td>2013-01-02</td>\n",
       "      <td>307.0</td>\n",
       "      <td>6</td>\n",
       "    </tr>\n",
       "    <tr>\n",
       "      <th>238359</th>\n",
       "      <td>2013-01-02</td>\n",
       "      <td>3000.0</td>\n",
       "      <td>122</td>\n",
       "    </tr>\n",
       "    <tr>\n",
       "      <th>330093</th>\n",
       "      <td>2013-01-02</td>\n",
       "      <td>159.0</td>\n",
       "      <td>160</td>\n",
       "    </tr>\n",
       "    <tr>\n",
       "      <th>...</th>\n",
       "      <td>...</td>\n",
       "      <td>...</td>\n",
       "      <td>...</td>\n",
       "    </tr>\n",
       "    <tr>\n",
       "      <th>344436</th>\n",
       "      <td>2024-12-03</td>\n",
       "      <td>17550.0</td>\n",
       "      <td>99</td>\n",
       "    </tr>\n",
       "    <tr>\n",
       "      <th>344438</th>\n",
       "      <td>2024-12-03</td>\n",
       "      <td>38000.0</td>\n",
       "      <td>101</td>\n",
       "    </tr>\n",
       "    <tr>\n",
       "      <th>344300</th>\n",
       "      <td>2024-12-03</td>\n",
       "      <td>310.0</td>\n",
       "      <td>36</td>\n",
       "    </tr>\n",
       "    <tr>\n",
       "      <th>344306</th>\n",
       "      <td>2024-12-03</td>\n",
       "      <td>310.0</td>\n",
       "      <td>38</td>\n",
       "    </tr>\n",
       "    <tr>\n",
       "      <th>344246</th>\n",
       "      <td>2024-12-03</td>\n",
       "      <td>3030.0</td>\n",
       "      <td>7</td>\n",
       "    </tr>\n",
       "  </tbody>\n",
       "</table>\n",
       "<p>335707 rows × 3 columns</p>\n",
       "</div>"
      ]
     },
     "execution_count": 48,
     "metadata": {},
     "output_type": "execute_result"
    }
   ],
   "execution_count": 48
  },
  {
   "metadata": {
    "ExecuteTime": {
     "end_time": "2024-12-24T16:57:43.396478Z",
     "start_time": "2024-12-24T16:57:43.391537Z"
    }
   },
   "cell_type": "code",
   "source": "df2.set_index('time', inplace=True)",
   "id": "3ff7f44c197993a9",
   "outputs": [],
   "execution_count": 49
  },
  {
   "metadata": {
    "ExecuteTime": {
     "end_time": "2024-12-24T16:57:47.001481Z",
     "start_time": "2024-12-24T16:57:46.993073Z"
    }
   },
   "cell_type": "code",
   "source": "df2",
   "id": "ec777779bfbaac1c",
   "outputs": [
    {
     "data": {
      "text/plain": [
       "              close  issuer\n",
       "time                       \n",
       "2013-01-02    570.0      73\n",
       "2013-01-02   8500.0     101\n",
       "2013-01-02    307.0       6\n",
       "2013-01-02   3000.0     122\n",
       "2013-01-02    159.0     160\n",
       "...             ...     ...\n",
       "2024-12-03  17550.0      99\n",
       "2024-12-03  38000.0     101\n",
       "2024-12-03    310.0      36\n",
       "2024-12-03    310.0      38\n",
       "2024-12-03   3030.0       7\n",
       "\n",
       "[335707 rows x 2 columns]"
      ],
      "text/html": [
       "<div>\n",
       "<style scoped>\n",
       "    .dataframe tbody tr th:only-of-type {\n",
       "        vertical-align: middle;\n",
       "    }\n",
       "\n",
       "    .dataframe tbody tr th {\n",
       "        vertical-align: top;\n",
       "    }\n",
       "\n",
       "    .dataframe thead th {\n",
       "        text-align: right;\n",
       "    }\n",
       "</style>\n",
       "<table border=\"1\" class=\"dataframe\">\n",
       "  <thead>\n",
       "    <tr style=\"text-align: right;\">\n",
       "      <th></th>\n",
       "      <th>close</th>\n",
       "      <th>issuer</th>\n",
       "    </tr>\n",
       "    <tr>\n",
       "      <th>time</th>\n",
       "      <th></th>\n",
       "      <th></th>\n",
       "    </tr>\n",
       "  </thead>\n",
       "  <tbody>\n",
       "    <tr>\n",
       "      <th>2013-01-02</th>\n",
       "      <td>570.0</td>\n",
       "      <td>73</td>\n",
       "    </tr>\n",
       "    <tr>\n",
       "      <th>2013-01-02</th>\n",
       "      <td>8500.0</td>\n",
       "      <td>101</td>\n",
       "    </tr>\n",
       "    <tr>\n",
       "      <th>2013-01-02</th>\n",
       "      <td>307.0</td>\n",
       "      <td>6</td>\n",
       "    </tr>\n",
       "    <tr>\n",
       "      <th>2013-01-02</th>\n",
       "      <td>3000.0</td>\n",
       "      <td>122</td>\n",
       "    </tr>\n",
       "    <tr>\n",
       "      <th>2013-01-02</th>\n",
       "      <td>159.0</td>\n",
       "      <td>160</td>\n",
       "    </tr>\n",
       "    <tr>\n",
       "      <th>...</th>\n",
       "      <td>...</td>\n",
       "      <td>...</td>\n",
       "    </tr>\n",
       "    <tr>\n",
       "      <th>2024-12-03</th>\n",
       "      <td>17550.0</td>\n",
       "      <td>99</td>\n",
       "    </tr>\n",
       "    <tr>\n",
       "      <th>2024-12-03</th>\n",
       "      <td>38000.0</td>\n",
       "      <td>101</td>\n",
       "    </tr>\n",
       "    <tr>\n",
       "      <th>2024-12-03</th>\n",
       "      <td>310.0</td>\n",
       "      <td>36</td>\n",
       "    </tr>\n",
       "    <tr>\n",
       "      <th>2024-12-03</th>\n",
       "      <td>310.0</td>\n",
       "      <td>38</td>\n",
       "    </tr>\n",
       "    <tr>\n",
       "      <th>2024-12-03</th>\n",
       "      <td>3030.0</td>\n",
       "      <td>7</td>\n",
       "    </tr>\n",
       "  </tbody>\n",
       "</table>\n",
       "<p>335707 rows × 2 columns</p>\n",
       "</div>"
      ]
     },
     "execution_count": 51,
     "metadata": {},
     "output_type": "execute_result"
    }
   ],
   "execution_count": 51
  },
  {
   "metadata": {
    "ExecuteTime": {
     "end_time": "2024-12-24T16:57:50.421918Z",
     "start_time": "2024-12-24T16:57:50.418482Z"
    }
   },
   "cell_type": "code",
   "source": "df2.sort_index(inplace=True)",
   "id": "8116b2a3a10acacf",
   "outputs": [],
   "execution_count": 52
  },
  {
   "metadata": {
    "ExecuteTime": {
     "end_time": "2024-12-24T16:57:51.482395Z",
     "start_time": "2024-12-24T16:57:51.474097Z"
    }
   },
   "cell_type": "code",
   "source": "df2",
   "id": "3b147e95c9c60a47",
   "outputs": [
    {
     "data": {
      "text/plain": [
       "              close  issuer\n",
       "time                       \n",
       "2013-01-02    570.0      73\n",
       "2013-01-02   8500.0     101\n",
       "2013-01-02    307.0       6\n",
       "2013-01-02   3000.0     122\n",
       "2013-01-02    159.0     160\n",
       "...             ...     ...\n",
       "2024-12-03  17550.0      99\n",
       "2024-12-03  38000.0     101\n",
       "2024-12-03    310.0      36\n",
       "2024-12-03    310.0      38\n",
       "2024-12-03   3030.0       7\n",
       "\n",
       "[335707 rows x 2 columns]"
      ],
      "text/html": [
       "<div>\n",
       "<style scoped>\n",
       "    .dataframe tbody tr th:only-of-type {\n",
       "        vertical-align: middle;\n",
       "    }\n",
       "\n",
       "    .dataframe tbody tr th {\n",
       "        vertical-align: top;\n",
       "    }\n",
       "\n",
       "    .dataframe thead th {\n",
       "        text-align: right;\n",
       "    }\n",
       "</style>\n",
       "<table border=\"1\" class=\"dataframe\">\n",
       "  <thead>\n",
       "    <tr style=\"text-align: right;\">\n",
       "      <th></th>\n",
       "      <th>close</th>\n",
       "      <th>issuer</th>\n",
       "    </tr>\n",
       "    <tr>\n",
       "      <th>time</th>\n",
       "      <th></th>\n",
       "      <th></th>\n",
       "    </tr>\n",
       "  </thead>\n",
       "  <tbody>\n",
       "    <tr>\n",
       "      <th>2013-01-02</th>\n",
       "      <td>570.0</td>\n",
       "      <td>73</td>\n",
       "    </tr>\n",
       "    <tr>\n",
       "      <th>2013-01-02</th>\n",
       "      <td>8500.0</td>\n",
       "      <td>101</td>\n",
       "    </tr>\n",
       "    <tr>\n",
       "      <th>2013-01-02</th>\n",
       "      <td>307.0</td>\n",
       "      <td>6</td>\n",
       "    </tr>\n",
       "    <tr>\n",
       "      <th>2013-01-02</th>\n",
       "      <td>3000.0</td>\n",
       "      <td>122</td>\n",
       "    </tr>\n",
       "    <tr>\n",
       "      <th>2013-01-02</th>\n",
       "      <td>159.0</td>\n",
       "      <td>160</td>\n",
       "    </tr>\n",
       "    <tr>\n",
       "      <th>...</th>\n",
       "      <td>...</td>\n",
       "      <td>...</td>\n",
       "    </tr>\n",
       "    <tr>\n",
       "      <th>2024-12-03</th>\n",
       "      <td>17550.0</td>\n",
       "      <td>99</td>\n",
       "    </tr>\n",
       "    <tr>\n",
       "      <th>2024-12-03</th>\n",
       "      <td>38000.0</td>\n",
       "      <td>101</td>\n",
       "    </tr>\n",
       "    <tr>\n",
       "      <th>2024-12-03</th>\n",
       "      <td>310.0</td>\n",
       "      <td>36</td>\n",
       "    </tr>\n",
       "    <tr>\n",
       "      <th>2024-12-03</th>\n",
       "      <td>310.0</td>\n",
       "      <td>38</td>\n",
       "    </tr>\n",
       "    <tr>\n",
       "      <th>2024-12-03</th>\n",
       "      <td>3030.0</td>\n",
       "      <td>7</td>\n",
       "    </tr>\n",
       "  </tbody>\n",
       "</table>\n",
       "<p>335707 rows × 2 columns</p>\n",
       "</div>"
      ]
     },
     "execution_count": 53,
     "metadata": {},
     "output_type": "execute_result"
    }
   ],
   "execution_count": 53
  },
  {
   "metadata": {
    "ExecuteTime": {
     "end_time": "2024-12-24T16:58:02.000416Z",
     "start_time": "2024-12-24T16:58:01.970019Z"
    }
   },
   "cell_type": "code",
   "source": [
    "periods = range(3, 0, -1)\n",
    "shifted = df2.shift(periods=periods)"
   ],
   "id": "b3ce2f41abc613e",
   "outputs": [],
   "execution_count": 54
  },
  {
   "metadata": {
    "ExecuteTime": {
     "end_time": "2024-12-24T16:58:28.610680Z",
     "start_time": "2024-12-24T16:58:28.526844Z"
    }
   },
   "cell_type": "code",
   "source": "data = pd.concat([df2, shifted], axis=1)",
   "id": "d093c9c83ad1c4ac",
   "outputs": [],
   "execution_count": 56
  },
  {
   "metadata": {
    "ExecuteTime": {
     "end_time": "2024-12-24T16:58:33.390675Z",
     "start_time": "2024-12-24T16:58:33.369241Z"
    }
   },
   "cell_type": "code",
   "source": "data",
   "id": "ed7ac2cde2c7a607",
   "outputs": [
    {
     "data": {
      "text/plain": [
       "              close  issuer  close_3  issuer_3  close_2  issuer_2  close_1  \\\n",
       "time                                                                         \n",
       "2013-01-02    570.0      73      NaN       NaN      NaN       NaN      NaN   \n",
       "2013-01-02   8500.0     101      NaN       NaN      NaN       NaN    570.0   \n",
       "2013-01-02    307.0       6      NaN       NaN    570.0      73.0   8500.0   \n",
       "2013-01-02   3000.0     122    570.0      73.0   8500.0     101.0    307.0   \n",
       "2013-01-02    159.0     160   8500.0     101.0    307.0       6.0   3000.0   \n",
       "...             ...     ...      ...       ...      ...       ...      ...   \n",
       "2024-12-03  17550.0      99     45.0      96.0     16.0     100.0    310.0   \n",
       "2024-12-03  38000.0     101     16.0     100.0    310.0      35.0  17550.0   \n",
       "2024-12-03    310.0      36    310.0      35.0  17550.0      99.0  38000.0   \n",
       "2024-12-03    310.0      38  17550.0      99.0  38000.0     101.0    310.0   \n",
       "2024-12-03   3030.0       7  38000.0     101.0    310.0      36.0    310.0   \n",
       "\n",
       "            issuer_1  \n",
       "time                  \n",
       "2013-01-02       NaN  \n",
       "2013-01-02      73.0  \n",
       "2013-01-02     101.0  \n",
       "2013-01-02       6.0  \n",
       "2013-01-02     122.0  \n",
       "...              ...  \n",
       "2024-12-03      35.0  \n",
       "2024-12-03      99.0  \n",
       "2024-12-03     101.0  \n",
       "2024-12-03      36.0  \n",
       "2024-12-03      38.0  \n",
       "\n",
       "[335707 rows x 8 columns]"
      ],
      "text/html": [
       "<div>\n",
       "<style scoped>\n",
       "    .dataframe tbody tr th:only-of-type {\n",
       "        vertical-align: middle;\n",
       "    }\n",
       "\n",
       "    .dataframe tbody tr th {\n",
       "        vertical-align: top;\n",
       "    }\n",
       "\n",
       "    .dataframe thead th {\n",
       "        text-align: right;\n",
       "    }\n",
       "</style>\n",
       "<table border=\"1\" class=\"dataframe\">\n",
       "  <thead>\n",
       "    <tr style=\"text-align: right;\">\n",
       "      <th></th>\n",
       "      <th>close</th>\n",
       "      <th>issuer</th>\n",
       "      <th>close_3</th>\n",
       "      <th>issuer_3</th>\n",
       "      <th>close_2</th>\n",
       "      <th>issuer_2</th>\n",
       "      <th>close_1</th>\n",
       "      <th>issuer_1</th>\n",
       "    </tr>\n",
       "    <tr>\n",
       "      <th>time</th>\n",
       "      <th></th>\n",
       "      <th></th>\n",
       "      <th></th>\n",
       "      <th></th>\n",
       "      <th></th>\n",
       "      <th></th>\n",
       "      <th></th>\n",
       "      <th></th>\n",
       "    </tr>\n",
       "  </thead>\n",
       "  <tbody>\n",
       "    <tr>\n",
       "      <th>2013-01-02</th>\n",
       "      <td>570.0</td>\n",
       "      <td>73</td>\n",
       "      <td>NaN</td>\n",
       "      <td>NaN</td>\n",
       "      <td>NaN</td>\n",
       "      <td>NaN</td>\n",
       "      <td>NaN</td>\n",
       "      <td>NaN</td>\n",
       "    </tr>\n",
       "    <tr>\n",
       "      <th>2013-01-02</th>\n",
       "      <td>8500.0</td>\n",
       "      <td>101</td>\n",
       "      <td>NaN</td>\n",
       "      <td>NaN</td>\n",
       "      <td>NaN</td>\n",
       "      <td>NaN</td>\n",
       "      <td>570.0</td>\n",
       "      <td>73.0</td>\n",
       "    </tr>\n",
       "    <tr>\n",
       "      <th>2013-01-02</th>\n",
       "      <td>307.0</td>\n",
       "      <td>6</td>\n",
       "      <td>NaN</td>\n",
       "      <td>NaN</td>\n",
       "      <td>570.0</td>\n",
       "      <td>73.0</td>\n",
       "      <td>8500.0</td>\n",
       "      <td>101.0</td>\n",
       "    </tr>\n",
       "    <tr>\n",
       "      <th>2013-01-02</th>\n",
       "      <td>3000.0</td>\n",
       "      <td>122</td>\n",
       "      <td>570.0</td>\n",
       "      <td>73.0</td>\n",
       "      <td>8500.0</td>\n",
       "      <td>101.0</td>\n",
       "      <td>307.0</td>\n",
       "      <td>6.0</td>\n",
       "    </tr>\n",
       "    <tr>\n",
       "      <th>2013-01-02</th>\n",
       "      <td>159.0</td>\n",
       "      <td>160</td>\n",
       "      <td>8500.0</td>\n",
       "      <td>101.0</td>\n",
       "      <td>307.0</td>\n",
       "      <td>6.0</td>\n",
       "      <td>3000.0</td>\n",
       "      <td>122.0</td>\n",
       "    </tr>\n",
       "    <tr>\n",
       "      <th>...</th>\n",
       "      <td>...</td>\n",
       "      <td>...</td>\n",
       "      <td>...</td>\n",
       "      <td>...</td>\n",
       "      <td>...</td>\n",
       "      <td>...</td>\n",
       "      <td>...</td>\n",
       "      <td>...</td>\n",
       "    </tr>\n",
       "    <tr>\n",
       "      <th>2024-12-03</th>\n",
       "      <td>17550.0</td>\n",
       "      <td>99</td>\n",
       "      <td>45.0</td>\n",
       "      <td>96.0</td>\n",
       "      <td>16.0</td>\n",
       "      <td>100.0</td>\n",
       "      <td>310.0</td>\n",
       "      <td>35.0</td>\n",
       "    </tr>\n",
       "    <tr>\n",
       "      <th>2024-12-03</th>\n",
       "      <td>38000.0</td>\n",
       "      <td>101</td>\n",
       "      <td>16.0</td>\n",
       "      <td>100.0</td>\n",
       "      <td>310.0</td>\n",
       "      <td>35.0</td>\n",
       "      <td>17550.0</td>\n",
       "      <td>99.0</td>\n",
       "    </tr>\n",
       "    <tr>\n",
       "      <th>2024-12-03</th>\n",
       "      <td>310.0</td>\n",
       "      <td>36</td>\n",
       "      <td>310.0</td>\n",
       "      <td>35.0</td>\n",
       "      <td>17550.0</td>\n",
       "      <td>99.0</td>\n",
       "      <td>38000.0</td>\n",
       "      <td>101.0</td>\n",
       "    </tr>\n",
       "    <tr>\n",
       "      <th>2024-12-03</th>\n",
       "      <td>310.0</td>\n",
       "      <td>38</td>\n",
       "      <td>17550.0</td>\n",
       "      <td>99.0</td>\n",
       "      <td>38000.0</td>\n",
       "      <td>101.0</td>\n",
       "      <td>310.0</td>\n",
       "      <td>36.0</td>\n",
       "    </tr>\n",
       "    <tr>\n",
       "      <th>2024-12-03</th>\n",
       "      <td>3030.0</td>\n",
       "      <td>7</td>\n",
       "      <td>38000.0</td>\n",
       "      <td>101.0</td>\n",
       "      <td>310.0</td>\n",
       "      <td>36.0</td>\n",
       "      <td>310.0</td>\n",
       "      <td>38.0</td>\n",
       "    </tr>\n",
       "  </tbody>\n",
       "</table>\n",
       "<p>335707 rows × 8 columns</p>\n",
       "</div>"
      ]
     },
     "execution_count": 57,
     "metadata": {},
     "output_type": "execute_result"
    }
   ],
   "execution_count": 57
  },
  {
   "metadata": {
    "ExecuteTime": {
     "end_time": "2024-12-24T16:58:46.722047Z",
     "start_time": "2024-12-24T16:58:46.690314Z"
    }
   },
   "cell_type": "code",
   "source": "data.dropna(inplace=True)",
   "id": "ce16d5a28aa589ed",
   "outputs": [],
   "execution_count": 58
  },
  {
   "metadata": {
    "ExecuteTime": {
     "end_time": "2024-12-24T16:58:49.272304Z",
     "start_time": "2024-12-24T16:58:49.259953Z"
    }
   },
   "cell_type": "code",
   "source": "data",
   "id": "8494b4de6e58e256",
   "outputs": [
    {
     "data": {
      "text/plain": [
       "              close  issuer  close_3  issuer_3  close_2  issuer_2  close_1  \\\n",
       "time                                                                         \n",
       "2013-01-02   3000.0     122    570.0      73.0   8500.0     101.0    307.0   \n",
       "2013-01-02    159.0     160   8500.0     101.0    307.0       6.0   3000.0   \n",
       "2013-01-02   3690.0     162    307.0       6.0   3000.0     122.0    159.0   \n",
       "2013-01-02    400.0     114   3000.0     122.0    159.0     160.0   3690.0   \n",
       "2013-01-02  65695.0     121    159.0     160.0   3690.0     162.0    400.0   \n",
       "...             ...     ...      ...       ...      ...       ...      ...   \n",
       "2024-12-03  17550.0      99     45.0      96.0     16.0     100.0    310.0   \n",
       "2024-12-03  38000.0     101     16.0     100.0    310.0      35.0  17550.0   \n",
       "2024-12-03    310.0      36    310.0      35.0  17550.0      99.0  38000.0   \n",
       "2024-12-03    310.0      38  17550.0      99.0  38000.0     101.0    310.0   \n",
       "2024-12-03   3030.0       7  38000.0     101.0    310.0      36.0    310.0   \n",
       "\n",
       "            issuer_1  \n",
       "time                  \n",
       "2013-01-02       6.0  \n",
       "2013-01-02     122.0  \n",
       "2013-01-02     160.0  \n",
       "2013-01-02     162.0  \n",
       "2013-01-02     114.0  \n",
       "...              ...  \n",
       "2024-12-03      35.0  \n",
       "2024-12-03      99.0  \n",
       "2024-12-03     101.0  \n",
       "2024-12-03      36.0  \n",
       "2024-12-03      38.0  \n",
       "\n",
       "[335704 rows x 8 columns]"
      ],
      "text/html": [
       "<div>\n",
       "<style scoped>\n",
       "    .dataframe tbody tr th:only-of-type {\n",
       "        vertical-align: middle;\n",
       "    }\n",
       "\n",
       "    .dataframe tbody tr th {\n",
       "        vertical-align: top;\n",
       "    }\n",
       "\n",
       "    .dataframe thead th {\n",
       "        text-align: right;\n",
       "    }\n",
       "</style>\n",
       "<table border=\"1\" class=\"dataframe\">\n",
       "  <thead>\n",
       "    <tr style=\"text-align: right;\">\n",
       "      <th></th>\n",
       "      <th>close</th>\n",
       "      <th>issuer</th>\n",
       "      <th>close_3</th>\n",
       "      <th>issuer_3</th>\n",
       "      <th>close_2</th>\n",
       "      <th>issuer_2</th>\n",
       "      <th>close_1</th>\n",
       "      <th>issuer_1</th>\n",
       "    </tr>\n",
       "    <tr>\n",
       "      <th>time</th>\n",
       "      <th></th>\n",
       "      <th></th>\n",
       "      <th></th>\n",
       "      <th></th>\n",
       "      <th></th>\n",
       "      <th></th>\n",
       "      <th></th>\n",
       "      <th></th>\n",
       "    </tr>\n",
       "  </thead>\n",
       "  <tbody>\n",
       "    <tr>\n",
       "      <th>2013-01-02</th>\n",
       "      <td>3000.0</td>\n",
       "      <td>122</td>\n",
       "      <td>570.0</td>\n",
       "      <td>73.0</td>\n",
       "      <td>8500.0</td>\n",
       "      <td>101.0</td>\n",
       "      <td>307.0</td>\n",
       "      <td>6.0</td>\n",
       "    </tr>\n",
       "    <tr>\n",
       "      <th>2013-01-02</th>\n",
       "      <td>159.0</td>\n",
       "      <td>160</td>\n",
       "      <td>8500.0</td>\n",
       "      <td>101.0</td>\n",
       "      <td>307.0</td>\n",
       "      <td>6.0</td>\n",
       "      <td>3000.0</td>\n",
       "      <td>122.0</td>\n",
       "    </tr>\n",
       "    <tr>\n",
       "      <th>2013-01-02</th>\n",
       "      <td>3690.0</td>\n",
       "      <td>162</td>\n",
       "      <td>307.0</td>\n",
       "      <td>6.0</td>\n",
       "      <td>3000.0</td>\n",
       "      <td>122.0</td>\n",
       "      <td>159.0</td>\n",
       "      <td>160.0</td>\n",
       "    </tr>\n",
       "    <tr>\n",
       "      <th>2013-01-02</th>\n",
       "      <td>400.0</td>\n",
       "      <td>114</td>\n",
       "      <td>3000.0</td>\n",
       "      <td>122.0</td>\n",
       "      <td>159.0</td>\n",
       "      <td>160.0</td>\n",
       "      <td>3690.0</td>\n",
       "      <td>162.0</td>\n",
       "    </tr>\n",
       "    <tr>\n",
       "      <th>2013-01-02</th>\n",
       "      <td>65695.0</td>\n",
       "      <td>121</td>\n",
       "      <td>159.0</td>\n",
       "      <td>160.0</td>\n",
       "      <td>3690.0</td>\n",
       "      <td>162.0</td>\n",
       "      <td>400.0</td>\n",
       "      <td>114.0</td>\n",
       "    </tr>\n",
       "    <tr>\n",
       "      <th>...</th>\n",
       "      <td>...</td>\n",
       "      <td>...</td>\n",
       "      <td>...</td>\n",
       "      <td>...</td>\n",
       "      <td>...</td>\n",
       "      <td>...</td>\n",
       "      <td>...</td>\n",
       "      <td>...</td>\n",
       "    </tr>\n",
       "    <tr>\n",
       "      <th>2024-12-03</th>\n",
       "      <td>17550.0</td>\n",
       "      <td>99</td>\n",
       "      <td>45.0</td>\n",
       "      <td>96.0</td>\n",
       "      <td>16.0</td>\n",
       "      <td>100.0</td>\n",
       "      <td>310.0</td>\n",
       "      <td>35.0</td>\n",
       "    </tr>\n",
       "    <tr>\n",
       "      <th>2024-12-03</th>\n",
       "      <td>38000.0</td>\n",
       "      <td>101</td>\n",
       "      <td>16.0</td>\n",
       "      <td>100.0</td>\n",
       "      <td>310.0</td>\n",
       "      <td>35.0</td>\n",
       "      <td>17550.0</td>\n",
       "      <td>99.0</td>\n",
       "    </tr>\n",
       "    <tr>\n",
       "      <th>2024-12-03</th>\n",
       "      <td>310.0</td>\n",
       "      <td>36</td>\n",
       "      <td>310.0</td>\n",
       "      <td>35.0</td>\n",
       "      <td>17550.0</td>\n",
       "      <td>99.0</td>\n",
       "      <td>38000.0</td>\n",
       "      <td>101.0</td>\n",
       "    </tr>\n",
       "    <tr>\n",
       "      <th>2024-12-03</th>\n",
       "      <td>310.0</td>\n",
       "      <td>38</td>\n",
       "      <td>17550.0</td>\n",
       "      <td>99.0</td>\n",
       "      <td>38000.0</td>\n",
       "      <td>101.0</td>\n",
       "      <td>310.0</td>\n",
       "      <td>36.0</td>\n",
       "    </tr>\n",
       "    <tr>\n",
       "      <th>2024-12-03</th>\n",
       "      <td>3030.0</td>\n",
       "      <td>7</td>\n",
       "      <td>38000.0</td>\n",
       "      <td>101.0</td>\n",
       "      <td>310.0</td>\n",
       "      <td>36.0</td>\n",
       "      <td>310.0</td>\n",
       "      <td>38.0</td>\n",
       "    </tr>\n",
       "  </tbody>\n",
       "</table>\n",
       "<p>335704 rows × 8 columns</p>\n",
       "</div>"
      ]
     },
     "execution_count": 59,
     "metadata": {},
     "output_type": "execute_result"
    }
   ],
   "execution_count": 59
  },
  {
   "metadata": {
    "ExecuteTime": {
     "end_time": "2024-12-24T16:59:00.825521Z",
     "start_time": "2024-12-24T16:59:00.816556Z"
    }
   },
   "cell_type": "code",
   "source": "X, y = data.drop(columns=[\"close\"], axis=1), data[\"close\"]",
   "id": "9cf15b8ce3b034a5",
   "outputs": [],
   "execution_count": 61
  },
  {
   "metadata": {
    "ExecuteTime": {
     "end_time": "2024-12-24T16:59:08.748287Z",
     "start_time": "2024-12-24T16:59:08.593138Z"
    }
   },
   "cell_type": "code",
   "source": [
    "from sklearn.model_selection import train_test_split\n",
    "\n",
    "X_train, X_test, y_train, y_test = train_test_split(X, y, shuffle=False, test_size=0.2)"
   ],
   "id": "10b21d74ddc0a4f9",
   "outputs": [],
   "execution_count": 62
  },
  {
   "metadata": {
    "ExecuteTime": {
     "end_time": "2024-12-24T16:59:15.283017Z",
     "start_time": "2024-12-24T16:59:15.278406Z"
    }
   },
   "cell_type": "code",
   "source": [
    "from sklearn.preprocessing import MinMaxScaler\n",
    "\n",
    "scaler = MinMaxScaler()"
   ],
   "id": "6e091d9e179facb3",
   "outputs": [],
   "execution_count": 63
  },
  {
   "metadata": {
    "ExecuteTime": {
     "end_time": "2024-12-24T16:59:21.792108Z",
     "start_time": "2024-12-24T16:59:21.730599Z"
    }
   },
   "cell_type": "code",
   "source": [
    "X_train = scaler.fit_transform(X_train)\n",
    "X_test = scaler.transform(X_test)"
   ],
   "id": "94907e9388dc6674",
   "outputs": [],
   "execution_count": 64
  },
  {
   "metadata": {
    "ExecuteTime": {
     "end_time": "2024-12-24T16:59:31.100125Z",
     "start_time": "2024-12-24T16:59:31.090606Z"
    }
   },
   "cell_type": "code",
   "source": "(X_train.shape[0], 3, (X_train.shape[1] // 3))",
   "id": "cbd1ebab9223874a",
   "outputs": [
    {
     "data": {
      "text/plain": [
       "(268563, 3, 2)"
      ]
     },
     "execution_count": 65,
     "metadata": {},
     "output_type": "execute_result"
    }
   ],
   "execution_count": 65
  },
  {
   "metadata": {
    "ExecuteTime": {
     "end_time": "2024-12-24T17:00:11.345098Z",
     "start_time": "2024-12-24T17:00:11.335131Z"
    }
   },
   "cell_type": "code",
   "source": [
    "from tensorflow.keras.models import Sequential\n",
    "from tensorflow.keras.layers import Dense, Input, LSTM"
   ],
   "id": "bbb548e2b739663",
   "outputs": [],
   "execution_count": 66
  },
  {
   "metadata": {
    "ExecuteTime": {
     "end_time": "2024-12-24T17:01:32.695609Z",
     "start_time": "2024-12-24T17:01:32.640282Z"
    }
   },
   "cell_type": "code",
   "source": [
    "model = Sequential([\n",
    "    Input(shape=(7, (X_train.shape[1] // 7))),\n",
    "    LSTM(64, return_sequences=True, activation=\"relu\"),\n",
    "    LSTM(32, activation=\"relu\"),\n",
    "    Dense(1, activation=\"linear\"),\n",
    "])"
   ],
   "id": "607e0124bc557da0",
   "outputs": [],
   "execution_count": 71
  },
  {
   "metadata": {
    "ExecuteTime": {
     "end_time": "2024-12-24T17:01:33.319631Z",
     "start_time": "2024-12-24T17:01:33.303211Z"
    }
   },
   "cell_type": "code",
   "source": "model.summary()",
   "id": "ef9598b2a8154d7f",
   "outputs": [
    {
     "data": {
      "text/plain": [
       "\u001B[1mModel: \"sequential_1\"\u001B[0m\n"
      ],
      "text/html": [
       "<pre style=\"white-space:pre;overflow-x:auto;line-height:normal;font-family:Menlo,'DejaVu Sans Mono',consolas,'Courier New',monospace\"><span style=\"font-weight: bold\">Model: \"sequential_1\"</span>\n",
       "</pre>\n"
      ]
     },
     "metadata": {},
     "output_type": "display_data"
    },
    {
     "data": {
      "text/plain": [
       "┏━━━━━━━━━━━━━━━━━━━━━━━━━━━━━━━━━┳━━━━━━━━━━━━━━━━━━━━━━━━┳━━━━━━━━━━━━━━━┓\n",
       "┃\u001B[1m \u001B[0m\u001B[1mLayer (type)                   \u001B[0m\u001B[1m \u001B[0m┃\u001B[1m \u001B[0m\u001B[1mOutput Shape          \u001B[0m\u001B[1m \u001B[0m┃\u001B[1m \u001B[0m\u001B[1m      Param #\u001B[0m\u001B[1m \u001B[0m┃\n",
       "┡━━━━━━━━━━━━━━━━━━━━━━━━━━━━━━━━━╇━━━━━━━━━━━━━━━━━━━━━━━━╇━━━━━━━━━━━━━━━┩\n",
       "│ lstm_2 (\u001B[38;5;33mLSTM\u001B[0m)                   │ (\u001B[38;5;45mNone\u001B[0m, \u001B[38;5;34m7\u001B[0m, \u001B[38;5;34m64\u001B[0m)          │        \u001B[38;5;34m16,896\u001B[0m │\n",
       "├─────────────────────────────────┼────────────────────────┼───────────────┤\n",
       "│ lstm_3 (\u001B[38;5;33mLSTM\u001B[0m)                   │ (\u001B[38;5;45mNone\u001B[0m, \u001B[38;5;34m32\u001B[0m)             │        \u001B[38;5;34m12,416\u001B[0m │\n",
       "├─────────────────────────────────┼────────────────────────┼───────────────┤\n",
       "│ dense_1 (\u001B[38;5;33mDense\u001B[0m)                 │ (\u001B[38;5;45mNone\u001B[0m, \u001B[38;5;34m1\u001B[0m)              │            \u001B[38;5;34m33\u001B[0m │\n",
       "└─────────────────────────────────┴────────────────────────┴───────────────┘\n"
      ],
      "text/html": [
       "<pre style=\"white-space:pre;overflow-x:auto;line-height:normal;font-family:Menlo,'DejaVu Sans Mono',consolas,'Courier New',monospace\">┏━━━━━━━━━━━━━━━━━━━━━━━━━━━━━━━━━┳━━━━━━━━━━━━━━━━━━━━━━━━┳━━━━━━━━━━━━━━━┓\n",
       "┃<span style=\"font-weight: bold\"> Layer (type)                    </span>┃<span style=\"font-weight: bold\"> Output Shape           </span>┃<span style=\"font-weight: bold\">       Param # </span>┃\n",
       "┡━━━━━━━━━━━━━━━━━━━━━━━━━━━━━━━━━╇━━━━━━━━━━━━━━━━━━━━━━━━╇━━━━━━━━━━━━━━━┩\n",
       "│ lstm_2 (<span style=\"color: #0087ff; text-decoration-color: #0087ff\">LSTM</span>)                   │ (<span style=\"color: #00d7ff; text-decoration-color: #00d7ff\">None</span>, <span style=\"color: #00af00; text-decoration-color: #00af00\">7</span>, <span style=\"color: #00af00; text-decoration-color: #00af00\">64</span>)          │        <span style=\"color: #00af00; text-decoration-color: #00af00\">16,896</span> │\n",
       "├─────────────────────────────────┼────────────────────────┼───────────────┤\n",
       "│ lstm_3 (<span style=\"color: #0087ff; text-decoration-color: #0087ff\">LSTM</span>)                   │ (<span style=\"color: #00d7ff; text-decoration-color: #00d7ff\">None</span>, <span style=\"color: #00af00; text-decoration-color: #00af00\">32</span>)             │        <span style=\"color: #00af00; text-decoration-color: #00af00\">12,416</span> │\n",
       "├─────────────────────────────────┼────────────────────────┼───────────────┤\n",
       "│ dense_1 (<span style=\"color: #0087ff; text-decoration-color: #0087ff\">Dense</span>)                 │ (<span style=\"color: #00d7ff; text-decoration-color: #00d7ff\">None</span>, <span style=\"color: #00af00; text-decoration-color: #00af00\">1</span>)              │            <span style=\"color: #00af00; text-decoration-color: #00af00\">33</span> │\n",
       "└─────────────────────────────────┴────────────────────────┴───────────────┘\n",
       "</pre>\n"
      ]
     },
     "metadata": {},
     "output_type": "display_data"
    },
    {
     "data": {
      "text/plain": [
       "\u001B[1m Total params: \u001B[0m\u001B[38;5;34m29,345\u001B[0m (114.63 KB)\n"
      ],
      "text/html": [
       "<pre style=\"white-space:pre;overflow-x:auto;line-height:normal;font-family:Menlo,'DejaVu Sans Mono',consolas,'Courier New',monospace\"><span style=\"font-weight: bold\"> Total params: </span><span style=\"color: #00af00; text-decoration-color: #00af00\">29,345</span> (114.63 KB)\n",
       "</pre>\n"
      ]
     },
     "metadata": {},
     "output_type": "display_data"
    },
    {
     "data": {
      "text/plain": [
       "\u001B[1m Trainable params: \u001B[0m\u001B[38;5;34m29,345\u001B[0m (114.63 KB)\n"
      ],
      "text/html": [
       "<pre style=\"white-space:pre;overflow-x:auto;line-height:normal;font-family:Menlo,'DejaVu Sans Mono',consolas,'Courier New',monospace\"><span style=\"font-weight: bold\"> Trainable params: </span><span style=\"color: #00af00; text-decoration-color: #00af00\">29,345</span> (114.63 KB)\n",
       "</pre>\n"
      ]
     },
     "metadata": {},
     "output_type": "display_data"
    },
    {
     "data": {
      "text/plain": [
       "\u001B[1m Non-trainable params: \u001B[0m\u001B[38;5;34m0\u001B[0m (0.00 B)\n"
      ],
      "text/html": [
       "<pre style=\"white-space:pre;overflow-x:auto;line-height:normal;font-family:Menlo,'DejaVu Sans Mono',consolas,'Courier New',monospace\"><span style=\"font-weight: bold\"> Non-trainable params: </span><span style=\"color: #00af00; text-decoration-color: #00af00\">0</span> (0.00 B)\n",
       "</pre>\n"
      ]
     },
     "metadata": {},
     "output_type": "display_data"
    }
   ],
   "execution_count": 72
  },
  {
   "metadata": {
    "ExecuteTime": {
     "end_time": "2024-12-24T17:01:34.970058Z",
     "start_time": "2024-12-24T17:01:34.965406Z"
    }
   },
   "cell_type": "code",
   "source": [
    "model.compile(\n",
    "    loss=\"mean_squared_error\",\n",
    "    optimizer=\"adam\",\n",
    "    metrics=[\"mean_squared_error\"],\n",
    ")"
   ],
   "id": "717784866eb6f63d",
   "outputs": [],
   "execution_count": 73
  },
  {
   "metadata": {
    "ExecuteTime": {
     "end_time": "2024-12-24T17:14:28.062106Z",
     "start_time": "2024-12-24T17:01:35.544923Z"
    }
   },
   "cell_type": "code",
   "source": "history = model.fit(X_train, y_train, validation_split=0.2, epochs=16, batch_size=8)",
   "id": "bb1b85273139c0b3",
   "outputs": [
    {
     "name": "stdout",
     "output_type": "stream",
     "text": [
      "Epoch 1/16\n",
      "\u001B[1m26857/26857\u001B[0m \u001B[32m━━━━━━━━━━━━━━━━━━━━\u001B[0m\u001B[37m\u001B[0m \u001B[1m48s\u001B[0m 2ms/step - loss: 162667776.0000 - mean_squared_error: 162667776.0000 - val_loss: 240952624.0000 - val_mean_squared_error: 240952624.0000\n",
      "Epoch 2/16\n",
      "\u001B[1m26857/26857\u001B[0m \u001B[32m━━━━━━━━━━━━━━━━━━━━\u001B[0m\u001B[37m\u001B[0m \u001B[1m53s\u001B[0m 2ms/step - loss: 157425936.0000 - mean_squared_error: 157425936.0000 - val_loss: 230534768.0000 - val_mean_squared_error: 230534768.0000\n",
      "Epoch 3/16\n",
      "\u001B[1m26857/26857\u001B[0m \u001B[32m━━━━━━━━━━━━━━━━━━━━\u001B[0m\u001B[37m\u001B[0m \u001B[1m51s\u001B[0m 2ms/step - loss: 149360368.0000 - mean_squared_error: 149360368.0000 - val_loss: 225020896.0000 - val_mean_squared_error: 225020896.0000\n",
      "Epoch 4/16\n",
      "\u001B[1m26857/26857\u001B[0m \u001B[32m━━━━━━━━━━━━━━━━━━━━\u001B[0m\u001B[37m\u001B[0m \u001B[1m51s\u001B[0m 2ms/step - loss: 144048736.0000 - mean_squared_error: 144048736.0000 - val_loss: 230119584.0000 - val_mean_squared_error: 230119584.0000\n",
      "Epoch 5/16\n",
      "\u001B[1m26857/26857\u001B[0m \u001B[32m━━━━━━━━━━━━━━━━━━━━\u001B[0m\u001B[37m\u001B[0m \u001B[1m47s\u001B[0m 2ms/step - loss: 145923568.0000 - mean_squared_error: 145923568.0000 - val_loss: 231393056.0000 - val_mean_squared_error: 231393056.0000\n",
      "Epoch 6/16\n",
      "\u001B[1m26857/26857\u001B[0m \u001B[32m━━━━━━━━━━━━━━━━━━━━\u001B[0m\u001B[37m\u001B[0m \u001B[1m48s\u001B[0m 2ms/step - loss: 148955968.0000 - mean_squared_error: 148955968.0000 - val_loss: 229466784.0000 - val_mean_squared_error: 229466784.0000\n",
      "Epoch 7/16\n",
      "\u001B[1m26857/26857\u001B[0m \u001B[32m━━━━━━━━━━━━━━━━━━━━\u001B[0m\u001B[37m\u001B[0m \u001B[1m47s\u001B[0m 2ms/step - loss: 149843200.0000 - mean_squared_error: 149843200.0000 - val_loss: 224365760.0000 - val_mean_squared_error: 224365760.0000\n",
      "Epoch 8/16\n",
      "\u001B[1m26857/26857\u001B[0m \u001B[32m━━━━━━━━━━━━━━━━━━━━\u001B[0m\u001B[37m\u001B[0m \u001B[1m47s\u001B[0m 2ms/step - loss: 150267408.0000 - mean_squared_error: 150267408.0000 - val_loss: 245988112.0000 - val_mean_squared_error: 245988112.0000\n",
      "Epoch 9/16\n",
      "\u001B[1m26857/26857\u001B[0m \u001B[32m━━━━━━━━━━━━━━━━━━━━\u001B[0m\u001B[37m\u001B[0m \u001B[1m48s\u001B[0m 2ms/step - loss: 150970816.0000 - mean_squared_error: 150970816.0000 - val_loss: 225636544.0000 - val_mean_squared_error: 225636544.0000\n",
      "Epoch 10/16\n",
      "\u001B[1m26857/26857\u001B[0m \u001B[32m━━━━━━━━━━━━━━━━━━━━\u001B[0m\u001B[37m\u001B[0m \u001B[1m47s\u001B[0m 2ms/step - loss: 152133728.0000 - mean_squared_error: 152133728.0000 - val_loss: 235274336.0000 - val_mean_squared_error: 235274336.0000\n",
      "Epoch 11/16\n",
      "\u001B[1m26857/26857\u001B[0m \u001B[32m━━━━━━━━━━━━━━━━━━━━\u001B[0m\u001B[37m\u001B[0m \u001B[1m48s\u001B[0m 2ms/step - loss: 158317504.0000 - mean_squared_error: 158317504.0000 - val_loss: 220928384.0000 - val_mean_squared_error: 220928384.0000\n",
      "Epoch 12/16\n",
      "\u001B[1m26857/26857\u001B[0m \u001B[32m━━━━━━━━━━━━━━━━━━━━\u001B[0m\u001B[37m\u001B[0m \u001B[1m48s\u001B[0m 2ms/step - loss: 146648560.0000 - mean_squared_error: 146648560.0000 - val_loss: 210131088.0000 - val_mean_squared_error: 210131088.0000\n",
      "Epoch 13/16\n",
      "\u001B[1m26857/26857\u001B[0m \u001B[32m━━━━━━━━━━━━━━━━━━━━\u001B[0m\u001B[37m\u001B[0m \u001B[1m47s\u001B[0m 2ms/step - loss: 144397776.0000 - mean_squared_error: 144397776.0000 - val_loss: 226904560.0000 - val_mean_squared_error: 226904560.0000\n",
      "Epoch 14/16\n",
      "\u001B[1m26857/26857\u001B[0m \u001B[32m━━━━━━━━━━━━━━━━━━━━\u001B[0m\u001B[37m\u001B[0m \u001B[1m47s\u001B[0m 2ms/step - loss: 151936672.0000 - mean_squared_error: 151936672.0000 - val_loss: 226129120.0000 - val_mean_squared_error: 226129120.0000\n",
      "Epoch 15/16\n",
      "\u001B[1m26857/26857\u001B[0m \u001B[32m━━━━━━━━━━━━━━━━━━━━\u001B[0m\u001B[37m\u001B[0m \u001B[1m47s\u001B[0m 2ms/step - loss: 143312144.0000 - mean_squared_error: 143312144.0000 - val_loss: 234996640.0000 - val_mean_squared_error: 234996640.0000\n",
      "Epoch 16/16\n",
      "\u001B[1m26857/26857\u001B[0m \u001B[32m━━━━━━━━━━━━━━━━━━━━\u001B[0m\u001B[37m\u001B[0m \u001B[1m48s\u001B[0m 2ms/step - loss: 150347040.0000 - mean_squared_error: 150347040.0000 - val_loss: 248735104.0000 - val_mean_squared_error: 248735104.0000\n"
     ]
    }
   ],
   "execution_count": 74
  },
  {
   "metadata": {
    "ExecuteTime": {
     "end_time": "2024-12-24T17:21:03.440709Z",
     "start_time": "2024-12-24T17:21:03.408078Z"
    }
   },
   "cell_type": "code",
   "source": "model.save('./stock_lstm.keras')",
   "id": "f33c0fd28fdd0b1e",
   "outputs": [],
   "execution_count": 76
  },
  {
   "metadata": {},
   "cell_type": "code",
   "outputs": [],
   "execution_count": null,
   "source": "",
   "id": "2f4aee69f3762c53"
  }
 ],
 "metadata": {
  "kernelspec": {
   "display_name": "Python 3",
   "language": "python",
   "name": "python3"
  },
  "language_info": {
   "codemirror_mode": {
    "name": "ipython",
    "version": 2
   },
   "file_extension": ".py",
   "mimetype": "text/x-python",
   "name": "python",
   "nbconvert_exporter": "python",
   "pygments_lexer": "ipython2",
   "version": "2.7.6"
  }
 },
 "nbformat": 4,
 "nbformat_minor": 5
}
